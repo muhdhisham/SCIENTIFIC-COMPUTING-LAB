{
  "cells": [
    {
      "cell_type": "markdown",
      "metadata": {
        "colab_type": "text",
        "id": "view-in-github"
      },
      "source": [
        "<a href=\"https://colab.research.google.com/github/AbhiramKaiprath/SCIENTIFIC-COMPUTING-LAB/blob/main/Lab-3/SCL_3.ipynb\" target=\"_parent\"><img src=\"https://colab.research.google.com/assets/colab-badge.svg\" alt=\"Open In Colab\"/></a>"
      ]
    },
    {
      "cell_type": "markdown",
      "metadata": {
        "id": "AfQhGFXwTeBE"
      },
      "source": [
        "@abhiram_kaiprath"
      ]
    },
    {
      "cell_type": "markdown",
      "metadata": {
        "id": "LoYnJae6TkdV"
      },
      "source": [
        "Q1"
      ]
    },
    {
      "cell_type": "code",
      "execution_count": null,
      "metadata": {
        "colab": {
          "base_uri": "https://localhost:8080/",
          "height": 566
        },
        "id": "Fwoy6LwuG_A5",
        "outputId": "4740721b-2862-448b-8c15-79b4a41e4a01"
      },
      "outputs": [
        {
          "data": {
            "image/png": "[encoded data removed]",
            "text/plain": [
              "<Figure size 432x288 with 1 Axes>"
            ]
          },
          "metadata": {
            "needs_background": "light",
            "tags": []
          },
          "output_type": "display_data"
        },
        {
          "name": "stderr",
          "output_type": "stream",
          "text": [
            "/usr/local/lib/python3.6/dist-packages/ipykernel_launcher.py:6: UserWarning: In Matplotlib 3.3 individual lines on a stem plot will be added as a LineCollection instead of individual lines. This significantly improves the performance of a stem plot. To remove this warning and switch to the new behaviour, set the \"use_line_collection\" keyword argument to True.\n",
            "  \n"
          ]
        },
        {
          "data": {
            "image/png": "[encoded data removed]",
            "text/plain": [
              "<Figure size 432x288 with 1 Axes>"
            ]
          },
          "metadata": {
            "needs_background": "light",
            "tags": []
          },
          "output_type": "display_data"
        }
      ],
      "source": [
        "import numpy as np\n",
        "import matplotlib.pyplot as plt\n",
        "x=np.array([1,4,16,32])\n",
        "plt.plot(x)\n",
        "plt.show()\n",
        "plt.stem(x)\n",
        "plt.show()"
      ]
    },
    {
      "cell_type": "markdown",
      "metadata": {
        "id": "ZUuCkGM-TqEL"
      },
      "source": [
        "Q2"
      ]
    },
    {
      "cell_type": "code",
      "execution_count": null,
      "metadata": {
        "colab": {
          "base_uri": "https://localhost:8080/",
          "height": 269
        },
        "id": "K0x5GmxMJeY5",
        "outputId": "2d0ab050-c91b-4dfd-989d-e55600ffdaf5"
      },
      "outputs": [
        {
          "data": {
            "image/png": "[encoded data removed]",
            "text/plain": [
              "<Figure size 432x288 with 1 Axes>"
            ]
          },
          "metadata": {
            "needs_background": "light",
            "tags": []
          },
          "output_type": "display_data"
        }
      ],
      "source": [
        "import numpy as np\n",
        "import matplotlib.pyplot as plt\n",
        "plt.imshow([[1,2,3],[3,2,1],[1,0,-1]])\n",
        "plt.show()"
      ]
    },
    {
      "cell_type": "markdown",
      "metadata": {
        "id": "5QNPJrsdT9AK"
      },
      "source": [
        "Q3"
      ]
    },
    {
      "cell_type": "code",
      "execution_count": null,
      "metadata": {
        "colab": {
          "base_uri": "https://localhost:8080/"
        },
        "id": "m6TyMabzTzFV",
        "outputId": "69130fc2-aa47-4bc7-d8f6-f4f35fddb72b"
      },
      "outputs": [
        {
          "name": "stdout",
          "output_type": "stream",
          "text": [
            "The inverse is :  [[ 7. -3. -3.]\n",
            " [-1.  1.  0.]\n",
            " [-1.  0.  1.]]\n",
            "Verification :  [[1. 0. 0.]\n",
            " [0. 1. 0.]\n",
            " [0. 0. 1.]]\n"
          ]
        }
      ],
      "source": [
        "import numpy as np                         #importing numpy\n",
        "A = np.array([[1,3,3],[1,4,3],[1,3,4]])\n",
        "A_inv = np.linalg.inv(A)                   #using the function to find inverse\n",
        "print(\"The inverse is : \" , A_inv)         #inverse of the given matrix\n",
        "# verification :\n",
        "print(\"Verification : \" , np.dot(A , A_inv))"
      ]
    },
    {
      "cell_type": "markdown",
      "metadata": {
        "id": "tRD8SMDYUZQ7"
      },
      "source": [
        "Q4"
      ]
    },
    {
      "cell_type": "code",
      "execution_count": 3,
      "metadata": {
        "colab": {
          "base_uri": "https://localhost:8080/"
        },
        "id": "fOnBD_LGUN6q",
        "outputId": "8c09f7ec-4a2c-473d-f607-7b04d57dbdd7"
      },
      "outputs": [
        {
          "name": "stdout",
          "output_type": "stream",
          "text": [
            "The resultant matrix is : [  6.  15. -23.]\n",
            "The resultant matrix is : [  6.  15. -23.]\n"
          ]
        }
      ],
      "source": [
        "import numpy as np                              #import numpy\n",
        "A = np.array([[2, 1, 1], [1, 3, 2], [1, 0, 0]]) #matrix using coefficients of x,y,z\n",
        "B = np.array([4,5,6])                           #matrix using constants\n",
        "X = np.linalg.solve(A, B)                       #using solve function\n",
        "print(\"The resultant matrix is :\" , X)\n",
        "# Alternative mathod :\n",
        "Y = np.linalg.inv(A).dot(B)\n",
        "print(\"The resultant matrix is :\" , Y)"
      ]
    },
    {
      "cell_type": "markdown",
      "metadata": {
        "id": "ZktBLesBV24p"
      },
      "source": [
        "Q5"
      ]
    },
    {
      "cell_type": "markdown",
      "metadata": {
        "id": "NF53vASnWBUe"
      },
      "source": [
        "A"
      ]
    },
    {
      "cell_type": "code",
      "execution_count": 5,
      "metadata": {
        "colab": {
          "base_uri": "https://localhost:8080/"
        },
        "id": "l85qjDpdWHlh",
        "outputId": "0ed8ea7b-7115-43f6-c0a8-0c77840191f0"
      },
      "outputs": [
        {
          "name": "stdout",
          "output_type": "stream",
          "text": [
            "Rank is :  2\n"
          ]
        }
      ],
      "source": [
        "import numpy as np                           #importing numpy\n",
        "x = np.array([[1,2,3], [3,2,1], [1, 0, -1]])\n",
        "rank_x = np.linalg.matrix_rank(x)            #finding rank\n",
        "print(\"Rank is : \" , rank_x)"
      ]
    },
    {
      "cell_type": "markdown",
      "metadata": {
        "id": "Dvg63UcPWNLG"
      },
      "source": [
        "B"
      ]
    },
    {
      "cell_type": "code",
      "execution_count": 6,
      "metadata": {
        "colab": {
          "base_uri": "https://localhost:8080/"
        },
        "id": "IhJRsDEoWOMb",
        "outputId": "82137ab5-5374-4c23-9b67-28ba9519276c"
      },
      "outputs": [
        {
          "name": "stdout",
          "output_type": "stream",
          "text": [
            "Eigen value :  [ 4.31662479e+00 -2.31662479e+00  1.47314580e-16]\n"
          ]
        }
      ],
      "source": [
        "import numpy as np                            #import numpy\n",
        "x = np.array([[1,2,3], [3,2,1], [1, 0, -1]])\n",
        "eix = np.linalg.eig(x)                        #finding eigen value\n",
        "print(\"Eigen value : \" , eix[0])"
      ]
    },
    {
      "cell_type": "markdown",
      "metadata": {
        "id": "fRdjG_fOWUma"
      },
      "source": [
        "C"
      ]
    },
    {
      "cell_type": "code",
      "execution_count": 7,
      "metadata": {
        "colab": {
          "base_uri": "https://localhost:8080/"
        },
        "id": "sonEoQ9cWW6q",
        "outputId": "77c97780-6ecb-4f69-89de-5edd8b19d35f"
      },
      "outputs": [
        {
          "name": "stdout",
          "output_type": "stream",
          "text": [
            "Eigen vector :  [[ 0.58428153  0.73595785  0.40824829]\n",
            " [ 0.80407569 -0.38198836 -0.81649658]\n",
            " [ 0.10989708 -0.55897311  0.40824829]]\n"
          ]
        }
      ],
      "source": [
        "import numpy as np                            #import numpy\n",
        "x = np.array([[1,2,3], [3,2,1], [1, 0, -1]])\n",
        "eix = np.linalg.eig(x)                        #finding eigen vector\n",
        "print(\"Eigen vector : \" , eix[1])"
      ]
    },
    {
      "cell_type": "markdown",
      "metadata": {
        "id": "EwHvqgdWWgxV"
      },
      "source": [
        "D"
      ]
    },
    {
      "cell_type": "code",
      "execution_count": 8,
      "metadata": {
        "colab": {
          "base_uri": "https://localhost:8080/"
        },
        "id": "K4UPuqTHWixO",
        "outputId": "602197ac-3724-4b1a-e026-22ce263d6a7b"
      },
      "outputs": [
        {
          "name": "stdout",
          "output_type": "stream",
          "text": [
            "2\n"
          ]
        }
      ],
      "source": [
        "import numpy as np\n",
        "y = np.array([[-4,-3,2], [1,2,1], [2,4,2]])\n",
        "rank_y = np.linalg.matrix_rank(y)\n",
        "print(rank_y)"
      ]
    },
    {
      "cell_type": "markdown",
      "metadata": {
        "id": "7ihJe0_CWj7k"
      },
      "source": [
        "E"
      ]
    },
    {
      "cell_type": "code",
      "execution_count": 9,
      "metadata": {
        "colab": {
          "base_uri": "https://localhost:8080/"
        },
        "id": "beTWOLfIWl17",
        "outputId": "441cf3f5-14d5-4109-e7b7-df898678aeba"
      },
      "outputs": [
        {
          "name": "stdout",
          "output_type": "stream",
          "text": [
            "Eigen value :  [-4.12310563e+00  4.12310563e+00 -6.96955104e-16]\n"
          ]
        }
      ],
      "source": [
        "import numpy as np\n",
        "y = np.array([[-4,-3,2], [1,2,1], [2,4,2]])\n",
        "eiy = np.linalg.eig(y)                       #finding eigen value\n",
        "print(\"Eigen value : \" , eiy[0])"
      ]
    },
    {
      "cell_type": "markdown",
      "metadata": {
        "id": "pIB3CqNMWqre"
      },
      "source": [
        "F"
      ]
    },
    {
      "cell_type": "code",
      "execution_count": 10,
      "metadata": {
        "colab": {
          "base_uri": "https://localhost:8080/"
        },
        "id": "zNvHCSxwWrO4",
        "outputId": "11fec034-cb3e-4259-bacc-ca202d747701"
      },
      "outputs": [
        {
          "name": "stdout",
          "output_type": "stream",
          "text": [
            "Eigen vector :  [[ 0.96413818 -0.05497126  0.66742381]\n",
            " [-0.11869083 -0.44653738 -0.57207755]\n",
            " [-0.23738167 -0.89307476  0.47673129]]\n"
          ]
        }
      ],
      "source": [
        "import numpy as np\n",
        "y = np.array([[-4,-3,2], [1,2,1], [2,4,2]])\n",
        "eiy = np.linalg.eig(y) #finding eigen vector\n",
        "print(\"Eigen vector : \" , eiy[1])"
      ]
    },
    {
      "cell_type": "markdown",
      "metadata": {
        "id": "ngWfAIOy5xXS"
      },
      "source": [
        "  Q6"
      ]
    },
    {
      "cell_type": "code",
      "execution_count": null,
      "metadata": {
        "colab": {
          "base_uri": "https://localhost:8080/"
        },
        "id": "be2O1GW81xsa",
        "outputId": "e7ecdb8b-af57-4607-88ac-3ecf38c3133e"
      },
      "outputs": [
        {
          "name": "stdout",
          "output_type": "stream",
          "text": [
            "left singular matrix \n",
            "[[-0.52573111  0.         -0.85065081]\n",
            " [-0.85065081  0.          0.52573111]\n",
            " [ 0.          1.          0.        ]]\n",
            "right singular matrix\n",
            "[[-0.85065081 -0.52573111 -0.        ]\n",
            " [ 0.          0.          1.        ]\n",
            " [-0.52573111  0.85065081  0.        ]]\n",
            "matrix with eigen values\n",
            "[1.61803399 1.         0.61803399]\n",
            "reconstructed matrix\n",
            "[[ 1.00000000e+00 -1.37825141e-16  0.00000000e+00]\n",
            " [ 1.00000000e+00  1.00000000e+00  0.00000000e+00]\n",
            " [ 0.00000000e+00  0.00000000e+00  1.00000000e+00]]\n"
          ]
        }
      ],
      "source": [
        "import numpy as np                          # importing numpy\n",
        "A = np.array([[1,0,0],[1,1,0],[0,0,1]])      #initialising\tthe\tarray\n",
        "u,s,v= np.linalg.svd(A)                      #decomposes the matrix A into u,s and v\n",
        "\n",
        "print(\"left singular matrix \")               #prints left singular matrix\n",
        "print(u)\n",
        "              \n",
        "print(\"right singular matrix\")               #prints right singular matrix  \n",
        "print(v)  \n",
        "\n",
        "print(\"matrix with eigen values\")            #prints matrix with eigen values\n",
        "print(s)   \n",
        "\n",
        "print(\"reconstructed matrix\")                #matrix reconstruction\n",
        "print(np.dot(u,np.dot(np.diag(s),v)))"
      ]
    },
    {
      "cell_type": "markdown",
      "metadata": {
        "id": "HkxgAgU7548U"
      },
      "source": [
        "Q7"
      ]
    },
    {
      "cell_type": "code",
      "execution_count": null,
      "metadata": {
        "colab": {
          "base_uri": "https://localhost:8080/",
          "height": 340
        },
        "id": "Tv-_JrZXQiNB",
        "outputId": "d2cd2de1-c3fd-4715-bc58-afc491854757"
      },
      "outputs": [
        {
          "name": "stdout",
          "output_type": "stream",
          "text": [
            "left singular matrix \n",
            "[[-0.54225536  0.06499573  0.82161708  0.10574661 -0.12448979]\n",
            " [-0.10181247 -0.59346055 -0.11255162  0.78812338  0.06026999]\n",
            " [-0.52495325  0.05938171 -0.21296861 -0.11574223  0.81372354]\n",
            " [-0.64487038  0.07040626 -0.50874368 -0.05990271 -0.56282918]\n",
            " [-0.06449519 -0.79692967  0.09000966 -0.59219473 -0.04412631]]\n",
            "right singular matrix\n",
            "[[-4.64617132e-01 -7.00859862e-02 -7.35093538e-01 -4.84391665e-01\n",
            "  -6.49698348e-02]\n",
            " [ 2.15065094e-02 -7.59987964e-01  9.87971197e-02  2.54473982e-02\n",
            "  -6.41519543e-01]\n",
            " [-8.68508563e-01  6.30714767e-02  2.84008516e-01  3.98865659e-01\n",
            "  -4.42743085e-02]\n",
            " [ 7.99553843e-04 -6.01345670e-01 -2.23484573e-01  3.32683813e-01\n",
            "   6.91201036e-01]\n",
            " [-1.71349432e-01 -2.27841223e-01  5.65040200e-01 -7.03523142e-01\n",
            "   3.23283947e-01]]\n",
            "matrix with eigen values\n",
            "[17.91837086 15.17137188  3.56400204  1.98422815  0.34955567]\n"
          ]
        }
      ],
      "source": [
        "import numpy as np                                                                 # importing numpy\n",
        "A = np.array([[2,0,8,6,0],[1,6,0,1,7],[5,0,7,4,0],[7,0,8,5,0],[0,10,0,0,7]])       #initialising\tthe\tarray\n",
        "u,s,v= np.linalg.svd(A)                                                            #decomposes the matrix A into u,s and v\n",
        "\n",
        "print(\"left singular matrix \")                                                     #prints left singular matrix\n",
        "print(u)\n",
        "              \n",
        "print(\"right singular matrix\")                                                     #prints right singular matrix  \n",
        "print(v)  \n",
        "\n",
        "print(\"matrix with eigen values\")                                                  #prints matrix with eigen values\n",
        "print(s)     "
      ]
    },
    {
      "cell_type": "markdown",
      "metadata": {
        "id": "5-jR4h4R7EfW"
      },
      "source": [
        "A B C D"
      ]
    },
    {
      "cell_type": "code",
      "execution_count": null,
      "metadata": {
        "colab": {
          "base_uri": "https://localhost:8080/",
          "height": 272
        },
        "id": "bn1AfLiG7RZX",
        "outputId": "7d0fd641-29ec-4194-9d67-97ef45b29d06"
      },
      "outputs": [
        {
          "name": "stdout",
          "output_type": "stream",
          "text": [
            "Enter the number of vectors \n",
            "5\n",
            "reconstructed matrix\n",
            "[[ 2.00000000e+00 -1.47366632e-15  8.00000000e+00  6.00000000e+00\n",
            "   7.85508231e-16]\n",
            " [ 1.00000000e+00  6.00000000e+00 -1.05555882e-15  1.00000000e+00\n",
            "   7.00000000e+00]\n",
            " [ 5.00000000e+00 -1.25591588e-15  7.00000000e+00  4.00000000e+00\n",
            "  -1.17958810e-15]\n",
            " [ 7.00000000e+00 -2.58099529e-17  8.00000000e+00  5.00000000e+00\n",
            "   3.84117282e-16]\n",
            " [ 4.45088898e-15  1.00000000e+01 -3.43629587e-15 -4.78124252e-15\n",
            "   7.00000000e+00]]\n",
            "absolute error\n",
            "1.339343528226316e-14\n"
          ]
        }
      ],
      "source": [
        "import numpy as np                                                                #importing numpy\n",
        "A = np.array([[2,0,8,6,0], [1,6,0,1,7], [5,0,7,4,0],[7,0,8,5,0],[0,10,0,0,7]])    #initialising\tthe\tarray\n",
        "u,s,v = np.linalg.svd(A)                                                          #decomposes the matrix A into u,s and v\n",
        "n = int(input(\"Enter the number of vectors \\n\"))                                  #number of vectors\n",
        "Sigma = np.zeros((n,n))                                                           #forms a matrix of order n*n whose all entries are 0\n",
        "Sigma[:n, :n] =np.diag(s)[0:n,0:n]                                                #selects the first n elements of s matrix and makes Sigma a diagonal matirx\n",
        "B= u[:,0:n].dot(Sigma.dot(v[0:n,:]))                                              #Forms new matrix which is the resultant of dot product of reduced u,Sigma and reduced v matrix\n",
        "                                                                                  #reduced matrixs have certain elements removed for the satsifying\n",
        "print(\"reconstructed matrix\")                                                     #matrix reconstruction                                                                                  #the dimensions for multiplication of matrixes\n",
        "print(B)\n",
        "print(\"absolute error\")\n",
        "print(np.linalg.norm(A - B))                                                      #calculates the absolute error upon reconstruction by camparison with A matrix"
      ]
    },
    {
      "cell_type": "markdown",
      "metadata": {
        "id": "c8et9owsPZYD"
      },
      "source": [
        "E"
      ]
    },
    {
      "cell_type": "code",
      "execution_count": null,
      "metadata": {
        "colab": {
          "base_uri": "https://localhost:8080/",
          "height": 265
        },
        "id": "tkkkZPLsPbtl",
        "outputId": "67bf9144-9819-4412-8a00-e2bb1c9f1ffe"
      },
      "outputs": [
        {
          "data": {
            "image/png": "[encoded data removed]",
            "text/plain": [
              "<Figure size 432x288 with 1 Axes>"
            ]
          },
          "metadata": {
            "needs_background": "light",
            "tags": []
          },
          "output_type": "display_data"
        }
      ],
      "source": [
        "import numpy as np                                                               #import numpy\n",
        "import matplotlib.pyplot as plt                                                  #import matplotlib.pyplot\n",
        "\n",
        "A = np.array([[2,0,8,6,0],[1,6,0,1,7],[5,0,7,4,0],[7,0,8,5,0],[0,10,0,0,7]])     #initialising\tthe\tarray\n",
        "u,s,v= np.linalg.svd(A)\n",
        "\n",
        "abs = []\n",
        "# Iterate over sequence of numbers from 0 to 9\n",
        " \n",
        "    # Append each number at the end of list\n",
        "     \n",
        "for r in range(1,6):\n",
        "  Sigma=np.zeros((r,r))\n",
        "  Sigma =np.diag(s)[0:r,0:r]\n",
        "  B=np.dot(u[:,0:r],np.dot(Sigma,v[0:r,:]))\n",
        "  abs.append(np.linalg.norm(A - B))\n",
        " \n",
        " \n",
        "plt.plot(abs)\n",
        "plt.show()"
      ]
    }
  ],
  "metadata": {
    "colab": {
      "authorship_tag": "ABX9TyOseIuKmGAwfsECtiF3MF4s",
      "collapsed_sections": [],
      "include_colab_link": true,
      "name": "SCL 3.ipynb",
      "provenance": []
    },
    "interpreter": {
      "hash": "fe44fef87f92f48a3a32707d0df204585f471652bc0ce87358a3ce712bc24db0"
    },
    "kernelspec": {
      "display_name": "Python 3.9.7 64-bit",
      "name": "python3"
    },
    "language_info": {
      "name": "python",
      "version": "3.9.7"
    }
  },
  "nbformat": 4,
  "nbformat_minor": 0
}
